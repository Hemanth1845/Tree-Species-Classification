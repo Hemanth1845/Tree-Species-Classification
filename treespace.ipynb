{
 "cells": [
  {
   "cell_type": "code",
   "execution_count": 4,
   "id": "241c3a8e",
   "metadata": {},
   "outputs": [],
   "source": [
    "import numpy as np\n",
    "import pandas as pd\n",
    "import matplotlib.pyplot as plt\n",
    "import seaborn as sns\n",
    "from sklearn.model_selection import train_test_split\n",
    "from sklearn.preprocessing import LabelEncoder\n",
    "from sklearn.ensemble import RandomForestClassifier\n",
    "from sklearn.metrics import classification_report, accuracy_score\n",
    "from sklearn.model_selection import RandomizedSearchCV\n",
    "import joblib"
   ]
  },
  {
   "cell_type": "code",
   "execution_count": 5,
   "id": "bd82ca49",
   "metadata": {},
   "outputs": [
    {
     "name": "stdout",
     "output_type": "stream",
     "text": [
      "   Species  Leaf_Length  Leaf_Width Leaf_Shape Leaf_Margin Bark_Texture  \\\n",
      "0      Oak         12.5         7.8       Oval    Serrated     Furrowed   \n",
      "1    Maple         10.2        12.3    Palmate       Lobed       Smooth   \n",
      "2     Pine          8.0         0.2     Needle      Smooth       Scales   \n",
      "3    Birch          7.5         5.5       Oval    Serrated      Peeling   \n",
      "4  Redwood          5.0         0.3     Needle      Smooth      Fibrous   \n",
      "\n",
      "  Flower_Color  Height  Latitude  Longitude  \n",
      "0        Brown      25      45.5     -122.6  \n",
      "1        Green      20      47.6     -122.3  \n",
      "2       Yellow      30      44.0     -123.1  \n",
      "3        White      15      46.2     -121.8  \n",
      "4        Brown     100      41.8     -124.1  \n",
      "\n",
      "Dataset shape: (6, 10)\n"
     ]
    }
   ],
   "source": [
    "df = pd.read_csv(\"tree_species_dataset.csv\")\n",
    "print(df.head())\n",
    "print(\"\\nDataset shape:\", df.shape)"
   ]
  },
  {
   "cell_type": "code",
   "execution_count": 6,
   "id": "215309a3",
   "metadata": {},
   "outputs": [
    {
     "name": "stdout",
     "output_type": "stream",
     "text": [
      "<class 'pandas.core.frame.DataFrame'>\n",
      "RangeIndex: 6 entries, 0 to 5\n",
      "Data columns (total 10 columns):\n",
      " #   Column        Non-Null Count  Dtype  \n",
      "---  ------        --------------  -----  \n",
      " 0   Species       6 non-null      object \n",
      " 1   Leaf_Length   6 non-null      float64\n",
      " 2   Leaf_Width    6 non-null      float64\n",
      " 3   Leaf_Shape    6 non-null      object \n",
      " 4   Leaf_Margin   6 non-null      object \n",
      " 5   Bark_Texture  6 non-null      object \n",
      " 6   Flower_Color  6 non-null      object \n",
      " 7   Height        6 non-null      int64  \n",
      " 8   Latitude      6 non-null      float64\n",
      " 9   Longitude     6 non-null      float64\n",
      "dtypes: float64(4), int64(1), object(5)\n",
      "memory usage: 608.0+ bytes\n",
      "None\n",
      "\n",
      "Missing values per column:\n",
      "Species         0\n",
      "Leaf_Length     0\n",
      "Leaf_Width      0\n",
      "Leaf_Shape      0\n",
      "Leaf_Margin     0\n",
      "Bark_Texture    0\n",
      "Flower_Color    0\n",
      "Height          0\n",
      "Latitude        0\n",
      "Longitude       0\n",
      "dtype: int64\n"
     ]
    },
    {
     "data": {
      "image/png": "[encoded data removed]",
      "text/plain": [
       "<Figure size 1000x600 with 1 Axes>"
      ]
     },
     "metadata": {},
     "output_type": "display_data"
    }
   ],
   "source": [
    "print(df.info())\n",
    "\n",
    "print(\"\\nMissing values per column:\")\n",
    "print(df.isnull().sum())\n",
    "\n",
    "plt.figure(figsize=(10,6))\n",
    "df['Species'].value_counts().plot(kind='bar')\n",
    "plt.title('Species Distribution')\n",
    "plt.xticks(rotation=45)\n",
    "plt.show()"
   ]
  },
  {
   "cell_type": "code",
   "execution_count": 7,
   "id": "8125530e",
   "metadata": {},
   "outputs": [],
   "source": [
    "df.fillna(df.mode().iloc[0], inplace=True)\n",
    "\n",
    "categorical_cols = ['Leaf_Shape', 'Leaf_Margin', 'Bark_Texture', 'Flower_Color']\n",
    "label_encoders = {}\n",
    "for col in categorical_cols:\n",
    "    le = LabelEncoder()\n",
    "    df[col] = le.fit_transform(df[col])\n",
    "    label_encoders[col] = le\n",
    "    \n",
    "species_encoder = LabelEncoder()\n",
    "df['Species_Encoded'] = species_encoder.fit_transform(df['Species'])\n",
    "\n",
    "features = ['Leaf_Length', 'Leaf_Width', 'Leaf_Shape', 'Leaf_Margin', \n",
    "            'Bark_Texture', 'Flower_Color', 'Height', 'Latitude', 'Longitude']\n",
    "X = df[features]\n",
    "y = df['Species_Encoded']\n",
    "\n",
    "X_train, X_test, y_train, y_test = train_test_split(X, y, test_size=0.2, random_state=42)"
   ]
  },
  {
   "cell_type": "code",
   "execution_count": 9,
   "id": "d4354ca9",
   "metadata": {},
   "outputs": [
    {
     "name": "stdout",
     "output_type": "stream",
     "text": [
      "Class distribution in training set:\n",
      "Species_Encoded\n",
      "5    1\n",
      "3    1\n",
      "4    1\n",
      "0    1\n",
      "Name: count, dtype: int64\n",
      "Warning: Not enough samples for cross-validation\n",
      "Using default parameters instead\n"
     ]
    }
   ],
   "source": [
    "from sklearn.ensemble import RandomForestClassifier\n",
    "from sklearn.model_selection import RandomizedSearchCV, StratifiedKFold\n",
    "import pandas as pd\n",
    "\n",
    "rf = RandomForestClassifier(random_state=42)\n",
    "\n",
    "param_dist = {\n",
    "    'n_estimators': [50, 100, 200],\n",
    "    'max_depth': [None, 10, 20, 30],\n",
    "    'min_samples_split': [2, 5, 10],\n",
    "    'min_samples_leaf': [1, 2, 4]\n",
    "}\n",
    "\n",
    "print(\"Class distribution in training set:\")\n",
    "print(pd.Series(y_train).value_counts())\n",
    "\n",
    "min_samples = pd.Series(y_train).value_counts().min()\n",
    "cv_folds = min(3, min_samples)\n",
    "\n",
    "if cv_folds > 1:\n",
    "    cv = StratifiedKFold(n_splits=cv_folds, shuffle=True, random_state=42)\n",
    "    random_search = RandomizedSearchCV(rf, param_distributions=param_dist,\n",
    "                                    n_iter=10, cv=cv, random_state=42,\n",
    "                                    n_jobs=-1)\n",
    "    random_search.fit(X_train, y_train)\n",
    "    \n",
    "    best_rf = random_search.best_estimator_\n",
    "    print(\"Best parameters:\", random_search.best_params_)\n",
    "else:\n",
    "    print(\"Warning: Not enough samples for cross-validation\")\n",
    "    print(\"Using default parameters instead\")\n",
    "    best_rf = rf.fit(X_train, y_train)"
   ]
  },
  {
   "cell_type": "code",
   "execution_count": 10,
   "id": "30e6b88a",
   "metadata": {},
   "outputs": [],
   "source": [
    "cv = min(3, y_train.value_counts().min())  # Use smaller number"
   ]
  },
  {
   "cell_type": "code",
   "execution_count": 11,
   "id": "23d2e011",
   "metadata": {},
   "outputs": [],
   "source": [
    "from sklearn.model_selection import LeaveOneOut\n",
    "cv = LeaveOneOut()"
   ]
  },
  {
   "cell_type": "code",
   "execution_count": null,
   "id": "def1c523",
   "metadata": {},
   "outputs": [],
   "source": [
    "from sklearn.metrics import accuracy_score, classification_report\n",
    "import matplotlib.pyplot as plt\n",
    "import seaborn as sns\n",
    "import pandas as pd\n",
    "\n",
    "y_pred = best_rf.predict(X_test)\n",
    "\n",
    "print(\"Accuracy:\", accuracy_score(y_test, y_pred))\n",
    "print(\"\\nClassification Report:\")\n",
    "print(classification_report(y_test, y_pred, target_names=species_encoder.classes_))\n",
    "\n",
    "feature_imp = pd.Series(best_rf.feature_importances_, index=X_train.columns).sort_values(ascending=False)\n",
    "plt.figure(figsize=(10,6))\n",
    "sns.barplot(x=feature_imp.values, y=feature_imp.index)\n",
    "plt.title('Feature Importance')\n",
    "plt.tight_layout()\n",
    "plt.show()"
   ]
  },
  {
   "cell_type": "code",
   "execution_count": 14,
   "id": "be2326f5",
   "metadata": {},
   "outputs": [],
   "source": [
    "joblib.dump(best_rf, 'tree_species_model.pkl')\n",
    "joblib.dump(label_encoders, 'label_encoders.pkl')\n",
    "joblib.dump(species_encoder, 'species_encoder.pkl')\n",
    "\n",
    "def predict_species(features):\n",
    "    model = joblib.load('tree_species_model.pkl')\n",
    "    encoders = joblib.load('label_encoders.pkl')\n",
    "    \n",
    "\n",
    "    for col in categorical_cols:\n",
    "        features[col] = encoders[col].transform([features[col]])[0]\n",
    "    \n",
    " \n",
    "    input_df = pd.DataFrame([features])\n",
    "    \n",
    "  \n",
    "    pred = model.predict(input_df)\n",
    "    species = species_encoder.inverse_transform(pred)\n",
    "    \n",
    "    return species[0]"
   ]
  },
  {
   "cell_type": "code",
   "execution_count": 15,
   "id": "d4a253b2",
   "metadata": {},
   "outputs": [
    {
     "name": "stdout",
     "output_type": "stream",
     "text": [
      "Predicted species: Birch\n"
     ]
    }
   ],
   "source": [
    "\n",
    "sample_tree = {\n",
    "    'Leaf_Length': 12.5,\n",
    "    'Leaf_Width': 7.8,\n",
    "    'Leaf_Shape': 'Oval',\n",
    "    'Leaf_Margin': 'Serrated',\n",
    "    'Bark_Texture': 'Furrowed',\n",
    "    'Flower_Color': 'White',\n",
    "    'Height': 25,\n",
    "    'Latitude': 45.5,\n",
    "    'Longitude': -122.6\n",
    "}\n",
    "\n",
    "\n",
    "print(\"Predicted species:\", predict_species(sample_tree))"
   ]
  }
 ],
 "metadata": {
  "kernelspec": {
   "display_name": "Python 3",
   "language": "python",
   "name": "python3"
  },
  "language_info": {
   "codemirror_mode": {
    "name": "ipython",
    "version": 3
   },
   "file_extension": ".py",
   "mimetype": "text/x-python",
   "name": "python",
   "nbconvert_exporter": "python",
   "pygments_lexer": "ipython3",
   "version": "3.10.0"
  }
 },
 "nbformat": 4,
 "nbformat_minor": 5
}
